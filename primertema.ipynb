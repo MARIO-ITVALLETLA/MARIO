{
  "nbformat": 4,
  "nbformat_minor": 0,
  "metadata": {
    "colab": {
      "provenance": [],
      "authorship_tag": "ABX9TyNaZltLG9LAeZKXAtS3x6T7",
      "include_colab_link": true
    },
    "kernelspec": {
      "name": "python3",
      "display_name": "Python 3"
    },
    "language_info": {
      "name": "python"
    }
  },
  "cells": [
    {
      "cell_type": "markdown",
      "metadata": {
        "id": "view-in-github",
        "colab_type": "text"
      },
      "source": [
        "<a href=\"https://colab.research.google.com/github/MARIO-ITVALLETLA/MARIO/blob/main/primertema.ipynb\" target=\"_parent\"><img src=\"https://colab.research.google.com/assets/colab-badge.svg\" alt=\"Open In Colab\"/></a>"
      ]
    },
    {
      "cell_type": "markdown",
      "source": [
        "\n",
        "\n",
        "**LENGUAJE Y ALGORITMO**\n",
        "\n",
        "Lenguajes de programacion\n",
        "\n",
        "*   C\n",
        "*   C++\n",
        "*   Java\n",
        "*   Fortram\n",
        "*   Delphi\n",
        "\n",
        "**Algoritmo**\n",
        "\n",
        "Conjunto de pasos, procedimientos o acciones que nos permiten alcanzar un resultado o resolver un problema.\n",
        "\n",
        "Caracteristicas:\n",
        "\n",
        "Derterminismo\n",
        "Presicion\n",
        "Finitud\n",
        "\n",
        "(Cairó et al., 1993)\n",
        "\n",
        "**Datos**\n",
        "\n",
        "valores enteros y valores reales.\n",
        "valores que pueden estar presedidos por los signos (+ -)\n",
        "\n",
        "128 152z -714 8  530 -14 789\n",
        "7,5  128.0  -37.865    129.7     16 000.50\n",
        "\n",
        "**Datos Alfanúmericos**\n",
        "*Caracter\n",
        "*Cadena\n",
        "\n",
        "(a,b,c...z)\n",
        "(0,1,2,3.. 9)\n",
        "(#, ?, $, %, *, etc)\n",
        "\n",
        "'a' 'B' '$' '9'  'H'\n",
        "\n",
        "\"abc\" \"$9#7\" \"Heeeectoooor\" \"Patroclo!!!\" \"754-27-22\"\n",
        "\n",
        "**Datos Lógicos**\n",
        "boleanos\n",
        "Verdadero (true)\n",
        "Falso     (fale)\n",
        "\n"
      ],
      "metadata": {
        "id": "l6r4b60XEBTW"
      }
    },
    {
      "cell_type": "code",
      "source": [
        "#tipos de Variable en Python\n",
        "#El tipo de variable estará determinado por el tipo de dato que almacena\n",
        "#Enteros: vasta agregar un valor entero.\n",
        "\n",
        "a=10\n",
        "b=11\n",
        "\n",
        "#Decimales: deben agregarse un numero con punto flotante\n",
        "c=3.1416\n",
        "\n",
        "#Boleanos: Datos con verdadero y false\n",
        "#Se pueden usar palabras: True y False\n",
        "\n",
        "verdad = True\n",
        "falso = False\n",
        "\n",
        "verdad = 1\n",
        "falso = 0\n",
        "\n",
        "#Texto o Cdena o String\n",
        "saludo = \"Hola Mundo\"\n",
        "nombre = \"Juan\"\n",
        "\n",
        "uno = 'a'\n",
        "dos = 'b'\n",
        "\n",
        "\n"
      ],
      "metadata": {
        "id": "rTYV9ZRqLuA-"
      },
      "execution_count": 4,
      "outputs": []
    },
    {
      "cell_type": "code",
      "source": [],
      "metadata": {
        "id": "TLzZvnVwRcHc"
      },
      "execution_count": null,
      "outputs": []
    },
    {
      "cell_type": "code",
      "source": [],
      "metadata": {
        "id": "ukNBRd-IRYAE"
      },
      "execution_count": null,
      "outputs": []
    }
  ]
}